{
  "nbformat": 4,
  "nbformat_minor": 0,
  "metadata": {
    "colab": {
      "provenance": [],
      "authorship_tag": "ABX9TyPvx2yd9LyvH6mXtzKI/l3r",
      "include_colab_link": true
    },
    "kernelspec": {
      "name": "python3",
      "display_name": "Python 3"
    },
    "language_info": {
      "name": "python"
    }
  },
  "cells": [
    {
      "cell_type": "markdown",
      "metadata": {
        "id": "view-in-github",
        "colab_type": "text"
      },
      "source": [
        "<a href=\"https://colab.research.google.com/github/AgungDaffa/machine/blob/main/week9.ipynb\" target=\"_parent\"><img src=\"https://colab.research.google.com/assets/colab-badge.svg\" alt=\"Open In Colab\"/></a>"
      ]
    },
    {
      "cell_type": "markdown",
      "source": [
        "### **Tugas**\n",
        "\n",
        "Lakukan klasifikasi pada data MNIST dengan menggunakan model ANN\n",
        "Anda diperbolehkan melakukan eksplorasi terhadap,\n",
        "Metode pra pengolahan\n",
        "Pemilihan fitur\n",
        "Arsitektur ANN\n",
        "Fungsi Aktiviasi\n",
        "ANN diimplementasikan dengan menggunakan tensorflow.\n",
        "DIKERJAKAN SECARA BERKELOMPOK\n",
        "JELASKAN HASIL YANG ANDA DAPATKAN,\n",
        "AKURASI\n",
        "CONFUSION MATRIX\n",
        "KONFIGURASI MODEL --> MULAI DARI PRA PENGOLAHAN SAMPAI ARSITEKTUR ANN\n"
      ],
      "metadata": {
        "id": "zunCniflmHMf"
      }
    },
    {
      "cell_type": "code",
      "execution_count": 1,
      "metadata": {
        "id": "LfULnR6ZXIt0"
      },
      "outputs": [],
      "source": [
        "\n",
        "import tensorflow as tf\n",
        "from tensorflow import keras\n",
        "from tensorflow.keras import layers\n"
      ]
    },
    {
      "cell_type": "code",
      "source": [
        "\n",
        "# Pra-pengolahan data\n",
        "(x_train, y_train), (x_test, y_test) = keras.datasets.mnist.load_data() # load data MNIST dan split data\n",
        "\n",
        "# ubah bentuk fitur menjadi vektor dan dinormalisasi\n",
        "x_train = x_train.reshape(-1, 784).astype(\"float32\") / 255.0\n",
        "x_test = x_test.reshape(-1, 784).astype(\"float32\") / 255.0"
      ],
      "metadata": {
        "colab": {
          "base_uri": "https://localhost:8080/"
        },
        "id": "9SsX7z7MnlaX",
        "outputId": "b3320f20-1c62-4c78-c27f-257d67f2e78b"
      },
      "execution_count": 2,
      "outputs": [
        {
          "output_type": "stream",
          "name": "stdout",
          "text": [
            "Downloading data from https://storage.googleapis.com/tensorflow/tf-keras-datasets/mnist.npz\n",
            "11490434/11490434 [==============================] - 0s 0us/step\n"
          ]
        }
      ]
    },
    {
      "cell_type": "code",
      "source": [
        "# Arsitektur ANN\n",
        "# Terdiri dari 3 lapisan Dense dengan funsi aktivasi ReLU\n",
        "ann = keras.Sequential(\n",
        "    [\n",
        "        layers.Dense(256, activation=\"relu\"),\n",
        "        layers.Dense(128, activation=\"relu\"),\n",
        "        layers.Dense(10),\n",
        "    ]\n",
        ")"
      ],
      "metadata": {
        "id": "0bjejDotnrRM"
      },
      "execution_count": 3,
      "outputs": []
    },
    {
      "cell_type": "code",
      "source": [
        "\n",
        "# Fungsi aktivasi\n",
        "ann.compile(\n",
        "    optimizer=keras.optimizers.Adam(0.001),\n",
        "    loss=keras.losses.SparseCategoricalCrossentropy(from_logits=True),\n",
        "    metrics=[\"accuracy\"],\n",
        ")"
      ],
      "metadata": {
        "id": "SITyKKvpnuC7"
      },
      "execution_count": 4,
      "outputs": []
    },
    {
      "cell_type": "code",
      "source": [
        "# Pelatihan model\n",
        "# Model dilatih menggunakan data latih dengan batch size 32 dan epoch sebanyak 5 kali.\n",
        "ann.fit(x_train, y_train, batch_size=32, epochs=5, verbose=2)\n",
        "\n",
        "# Evaluasi model\n",
        "# Model dievaluasi menggunakan data uji dan menghitung akurasi.\n",
        "test_loss, test_acc = ann.evaluate(x_test, y_test, verbose=2)\n",
        "print(\"Test accuracy:\", test_acc)"
      ],
      "metadata": {
        "colab": {
          "base_uri": "https://localhost:8080/"
        },
        "id": "A2lraJ8kny5n",
        "outputId": "e65d04e5-660a-4768-b7a6-98963592141d"
      },
      "execution_count": 5,
      "outputs": [
        {
          "output_type": "stream",
          "name": "stdout",
          "text": [
            "Epoch 1/5\n",
            "1875/1875 - 14s - loss: 0.2054 - accuracy: 0.9380 - 14s/epoch - 8ms/step\n",
            "Epoch 2/5\n",
            "1875/1875 - 12s - loss: 0.0847 - accuracy: 0.9733 - 12s/epoch - 6ms/step\n",
            "Epoch 3/5\n",
            "1875/1875 - 9s - loss: 0.0590 - accuracy: 0.9812 - 9s/epoch - 5ms/step\n",
            "Epoch 4/5\n",
            "1875/1875 - 9s - loss: 0.0452 - accuracy: 0.9850 - 9s/epoch - 5ms/step\n",
            "Epoch 5/5\n",
            "1875/1875 - 10s - loss: 0.0328 - accuracy: 0.9898 - 10s/epoch - 5ms/step\n",
            "313/313 - 1s - loss: 0.0900 - accuracy: 0.9751 - 788ms/epoch - 3ms/step\n",
            "Test accuracy: 0.9750999808311462\n"
          ]
        }
      ]
    },
    {
      "cell_type": "code",
      "source": [
        "# Confusion matrix\n",
        "# Confusion matrix dihitung menggunakan data uji dan prediksi model.\n",
        "y_pred = ann.predict(x_test)\n",
        "confusion_matrix = tf.math.confusion_matrix(y_test, tf.argmax(y_pred, axis=1))\n",
        "print(\"Confusion matrix:\\n\", confusion_matrix)"
      ],
      "metadata": {
        "colab": {
          "base_uri": "https://localhost:8080/"
        },
        "id": "IypNVlY7n1DB",
        "outputId": "c97e981a-c207-43f8-b2ec-f1d4f9344e60"
      },
      "execution_count": 6,
      "outputs": [
        {
          "output_type": "stream",
          "name": "stdout",
          "text": [
            "313/313 [==============================] - 2s 6ms/step\n",
            "Confusion matrix:\n",
            " tf.Tensor(\n",
            "[[ 974    0    0    2    0    1    0    0    1    2]\n",
            " [   1 1126    1    3    0    0    1    0    3    0]\n",
            " [   6    0 1005    5    3    0    1    6    5    1]\n",
            " [   0    0    4  996    0    1    0    3    3    3]\n",
            " [   1    0    4    1  957    0    2    1    0   16]\n",
            " [   4    0    0   21    2  846   12    0    3    4]\n",
            " [   5    3    0    1    6    1  939    0    3    0]\n",
            " [   2    2    4    9    1    0    0  989    2   19]\n",
            " [   5    0    6    9    6    7    1    3  927   10]\n",
            " [   4    2    0    2    7    1    0    0    1  992]], shape=(10, 10), dtype=int32)\n"
          ]
        }
      ]
    },
    {
      "cell_type": "code",
      "source": [],
      "metadata": {
        "id": "nfK-EXtHoRwW"
      },
      "execution_count": null,
      "outputs": []
    }
  ]
}